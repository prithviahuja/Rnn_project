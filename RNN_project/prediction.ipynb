{
 "cells": [
  {
   "cell_type": "code",
   "execution_count": 5,
   "metadata": {},
   "outputs": [],
   "source": [
    "import numpy as np\n",
    "import tensorflow as tf\n",
    "from tensorflow.keras.datasets import imdb\n",
    "from tensorflow.keras.preprocessing import sequence\n",
    "from tensorflow.keras.models import load_model\n"
   ]
  },
  {
   "cell_type": "code",
   "execution_count": 6,
   "metadata": {},
   "outputs": [],
   "source": [
    "#mapping of words index BACK TO WORDs\n",
    "word_index=imdb.get_word_index()\n",
    "#word_index\n",
    "reverse_word_index={value: key for key,value in word_index.items()}\n"
   ]
  },
  {
   "cell_type": "code",
   "execution_count": 7,
   "metadata": {},
   "outputs": [
    {
     "name": "stderr",
     "output_type": "stream",
     "text": [
      "WARNING:absl:Compiled the loaded model, but the compiled metrics have yet to be built. `model.compile_metrics` will be empty until you train or evaluate the model.\n"
     ]
    },
    {
     "data": {
      "text/html": [
       "<pre style=\"white-space:pre;overflow-x:auto;line-height:normal;font-family:Menlo,'DejaVu Sans Mono',consolas,'Courier New',monospace\"><span style=\"font-weight: bold\">Model: \"sequential_1\"</span>\n",
       "</pre>\n"
      ],
      "text/plain": [
       "\u001b[1mModel: \"sequential_1\"\u001b[0m\n"
      ]
     },
     "metadata": {},
     "output_type": "display_data"
    },
    {
     "data": {
      "text/html": [
       "<pre style=\"white-space:pre;overflow-x:auto;line-height:normal;font-family:Menlo,'DejaVu Sans Mono',consolas,'Courier New',monospace\">┏━━━━━━━━━━━━━━━━━━━━━━━━━━━━━━━━━┳━━━━━━━━━━━━━━━━━━━━━━━━┳━━━━━━━━━━━━━━━┓\n",
       "┃<span style=\"font-weight: bold\"> Layer (type)                    </span>┃<span style=\"font-weight: bold\"> Output Shape           </span>┃<span style=\"font-weight: bold\">       Param # </span>┃\n",
       "┡━━━━━━━━━━━━━━━━━━━━━━━━━━━━━━━━━╇━━━━━━━━━━━━━━━━━━━━━━━━╇━━━━━━━━━━━━━━━┩\n",
       "│ embedding (<span style=\"color: #0087ff; text-decoration-color: #0087ff\">Embedding</span>)           │ (<span style=\"color: #00af00; text-decoration-color: #00af00\">32</span>, <span style=\"color: #00af00; text-decoration-color: #00af00\">500</span>, <span style=\"color: #00af00; text-decoration-color: #00af00\">128</span>)         │     <span style=\"color: #00af00; text-decoration-color: #00af00\">1,280,000</span> │\n",
       "├─────────────────────────────────┼────────────────────────┼───────────────┤\n",
       "│ simple_rnn (<span style=\"color: #0087ff; text-decoration-color: #0087ff\">SimpleRNN</span>)          │ (<span style=\"color: #00af00; text-decoration-color: #00af00\">32</span>, <span style=\"color: #00af00; text-decoration-color: #00af00\">129</span>)              │        <span style=\"color: #00af00; text-decoration-color: #00af00\">33,282</span> │\n",
       "├─────────────────────────────────┼────────────────────────┼───────────────┤\n",
       "│ dense (<span style=\"color: #0087ff; text-decoration-color: #0087ff\">Dense</span>)                   │ (<span style=\"color: #00af00; text-decoration-color: #00af00\">32</span>, <span style=\"color: #00af00; text-decoration-color: #00af00\">1</span>)                │           <span style=\"color: #00af00; text-decoration-color: #00af00\">130</span> │\n",
       "└─────────────────────────────────┴────────────────────────┴───────────────┘\n",
       "</pre>\n"
      ],
      "text/plain": [
       "┏━━━━━━━━━━━━━━━━━━━━━━━━━━━━━━━━━┳━━━━━━━━━━━━━━━━━━━━━━━━┳━━━━━━━━━━━━━━━┓\n",
       "┃\u001b[1m \u001b[0m\u001b[1mLayer (type)                   \u001b[0m\u001b[1m \u001b[0m┃\u001b[1m \u001b[0m\u001b[1mOutput Shape          \u001b[0m\u001b[1m \u001b[0m┃\u001b[1m \u001b[0m\u001b[1m      Param #\u001b[0m\u001b[1m \u001b[0m┃\n",
       "┡━━━━━━━━━━━━━━━━━━━━━━━━━━━━━━━━━╇━━━━━━━━━━━━━━━━━━━━━━━━╇━━━━━━━━━━━━━━━┩\n",
       "│ embedding (\u001b[38;5;33mEmbedding\u001b[0m)           │ (\u001b[38;5;34m32\u001b[0m, \u001b[38;5;34m500\u001b[0m, \u001b[38;5;34m128\u001b[0m)         │     \u001b[38;5;34m1,280,000\u001b[0m │\n",
       "├─────────────────────────────────┼────────────────────────┼───────────────┤\n",
       "│ simple_rnn (\u001b[38;5;33mSimpleRNN\u001b[0m)          │ (\u001b[38;5;34m32\u001b[0m, \u001b[38;5;34m129\u001b[0m)              │        \u001b[38;5;34m33,282\u001b[0m │\n",
       "├─────────────────────────────────┼────────────────────────┼───────────────┤\n",
       "│ dense (\u001b[38;5;33mDense\u001b[0m)                   │ (\u001b[38;5;34m32\u001b[0m, \u001b[38;5;34m1\u001b[0m)                │           \u001b[38;5;34m130\u001b[0m │\n",
       "└─────────────────────────────────┴────────────────────────┴───────────────┘\n"
      ]
     },
     "metadata": {},
     "output_type": "display_data"
    },
    {
     "data": {
      "text/html": [
       "<pre style=\"white-space:pre;overflow-x:auto;line-height:normal;font-family:Menlo,'DejaVu Sans Mono',consolas,'Courier New',monospace\"><span style=\"font-weight: bold\"> Total params: </span><span style=\"color: #00af00; text-decoration-color: #00af00\">1,313,414</span> (5.01 MB)\n",
       "</pre>\n"
      ],
      "text/plain": [
       "\u001b[1m Total params: \u001b[0m\u001b[38;5;34m1,313,414\u001b[0m (5.01 MB)\n"
      ]
     },
     "metadata": {},
     "output_type": "display_data"
    },
    {
     "data": {
      "text/html": [
       "<pre style=\"white-space:pre;overflow-x:auto;line-height:normal;font-family:Menlo,'DejaVu Sans Mono',consolas,'Courier New',monospace\"><span style=\"font-weight: bold\"> Trainable params: </span><span style=\"color: #00af00; text-decoration-color: #00af00\">1,313,412</span> (5.01 MB)\n",
       "</pre>\n"
      ],
      "text/plain": [
       "\u001b[1m Trainable params: \u001b[0m\u001b[38;5;34m1,313,412\u001b[0m (5.01 MB)\n"
      ]
     },
     "metadata": {},
     "output_type": "display_data"
    },
    {
     "data": {
      "text/html": [
       "<pre style=\"white-space:pre;overflow-x:auto;line-height:normal;font-family:Menlo,'DejaVu Sans Mono',consolas,'Courier New',monospace\"><span style=\"font-weight: bold\"> Non-trainable params: </span><span style=\"color: #00af00; text-decoration-color: #00af00\">0</span> (0.00 B)\n",
       "</pre>\n"
      ],
      "text/plain": [
       "\u001b[1m Non-trainable params: \u001b[0m\u001b[38;5;34m0\u001b[0m (0.00 B)\n"
      ]
     },
     "metadata": {},
     "output_type": "display_data"
    },
    {
     "data": {
      "text/html": [
       "<pre style=\"white-space:pre;overflow-x:auto;line-height:normal;font-family:Menlo,'DejaVu Sans Mono',consolas,'Courier New',monospace\"><span style=\"font-weight: bold\"> Optimizer params: </span><span style=\"color: #00af00; text-decoration-color: #00af00\">2</span> (12.00 B)\n",
       "</pre>\n"
      ],
      "text/plain": [
       "\u001b[1m Optimizer params: \u001b[0m\u001b[38;5;34m2\u001b[0m (12.00 B)\n"
      ]
     },
     "metadata": {},
     "output_type": "display_data"
    }
   ],
   "source": [
    "#load the pre trained mode\n",
    "model=load_model('simple_rnn_imdb.h5')\n",
    "model.summary()"
   ]
  },
  {
   "cell_type": "code",
   "execution_count": 8,
   "metadata": {},
   "outputs": [
    {
     "data": {
      "text/plain": [
       "[array([[-1.93829179e-01, -3.57268244e-01,  6.51241302e-01, ...,\n",
       "         -2.97660559e-01,  6.91502571e-01,  3.27473581e-01],\n",
       "        [-2.43698414e-02,  4.62303869e-03,  6.24666587e-02, ...,\n",
       "         -6.56050742e-02,  6.51758611e-02,  7.32435212e-02],\n",
       "        [ 7.52824917e-02,  1.67383756e-02, -7.15703517e-02, ...,\n",
       "          7.00211376e-02, -5.54070771e-02, -3.13370600e-02],\n",
       "        ...,\n",
       "        [-1.06209196e-01, -8.25977400e-02,  9.60433260e-02, ...,\n",
       "         -3.32138920e-03,  4.90573011e-02,  9.73316059e-02],\n",
       "        [ 1.59756869e-01,  1.89351663e-01, -1.82597086e-01, ...,\n",
       "          6.16985634e-02, -6.87038824e-02, -1.64458945e-01],\n",
       "        [ 1.42286047e-02, -6.55142916e-03,  3.90524292e-05, ...,\n",
       "          3.77389975e-02,  6.57825768e-02, -1.47935729e-02]], dtype=float32),\n",
       " array([[ 0.00055622,  0.0771804 ,  0.00593728, ...,  0.08814619,\n",
       "         -0.09531216,  0.13711528],\n",
       "        [ 0.11176339, -0.12655179, -0.15001635, ...,  0.09853713,\n",
       "         -0.03997634,  0.07741367],\n",
       "        [-0.03491986, -0.00274345, -0.09062269, ...,  0.04035997,\n",
       "          0.09705921, -0.08547282],\n",
       "        ...,\n",
       "        [ 0.11442908, -0.02508957,  0.01526178, ...,  0.13431059,\n",
       "          0.01982451, -0.03794252],\n",
       "        [ 0.04824229, -0.01066763,  0.11057545, ...,  0.01654017,\n",
       "          0.08186206, -0.02857393],\n",
       "        [ 0.04049473, -0.03598702, -0.19823936, ..., -0.08674418,\n",
       "          0.01672182, -0.00215619]], dtype=float32),\n",
       " array([[-0.15779585, -0.13780235,  0.14172822, ..., -0.10952572,\n",
       "         -0.05218755, -0.11095202],\n",
       "        [-0.10094249,  0.05829097,  0.06826501, ...,  0.02961002,\n",
       "         -0.06130531, -0.13091171],\n",
       "        [-0.12551618, -0.20026451,  0.12933578, ..., -0.09198406,\n",
       "         -0.11363464, -0.04045991],\n",
       "        ...,\n",
       "        [ 0.02584754, -0.02399203, -0.04593373, ..., -0.13069019,\n",
       "          0.21521412, -0.15422218],\n",
       "        [ 0.03537678,  0.01540967, -0.06133248, ...,  0.02980912,\n",
       "         -0.00460607, -0.10490471],\n",
       "        [ 0.16792208, -0.05398795, -0.03945993, ..., -0.01126331,\n",
       "         -0.10136969,  0.03173565]], dtype=float32),\n",
       " array([-0.03776313, -0.0276512 ,  0.00637001, -0.03932438,  0.03715071,\n",
       "         0.04413868, -0.01120594, -0.06511177, -0.05877611, -0.00895405,\n",
       "        -0.02947462, -0.00138429,  0.04642026, -0.02646394, -0.01207986,\n",
       "        -0.04277313, -0.03528056, -0.00133107,  0.01133837,  0.0282107 ,\n",
       "         0.06253263,  0.0107988 , -0.0341632 ,  0.03475946,  0.01181684,\n",
       "         0.02160018, -0.01619464, -0.05583321,  0.01569504,  0.01490129,\n",
       "        -0.02126332, -0.02920517,  0.04974005, -0.01609721,  0.00660709,\n",
       "        -0.07655827,  0.01333581,  0.00224169, -0.04903115, -0.0307323 ,\n",
       "        -0.01064028,  0.00880876, -0.04304581, -0.04113808, -0.05105331,\n",
       "        -0.04940233,  0.0066022 , -0.05481748, -0.05652901,  0.02696397,\n",
       "         0.02365997, -0.02598908, -0.01126514,  0.02009541, -0.06481933,\n",
       "        -0.03429103, -0.04526559,  0.01471878, -0.04915204, -0.0387599 ,\n",
       "        -0.08345638,  0.05909576,  0.03701938,  0.01748564,  0.0612483 ,\n",
       "        -0.0507742 ,  0.00511665, -0.05598274, -0.03338797,  0.02543662,\n",
       "        -0.00458562,  0.02957392, -0.05632576,  0.00439957, -0.01403388,\n",
       "         0.05178661,  0.01514842, -0.01629424,  0.02390431, -0.02344268,\n",
       "        -0.02513798,  0.01087416, -0.02599455,  0.03266654,  0.02473761,\n",
       "         0.02508174, -0.04488473, -0.042294  , -0.0251902 , -0.02084223,\n",
       "         0.04898104, -0.05574883, -0.0526974 , -0.03930064, -0.03792314,\n",
       "        -0.02280528,  0.03945521, -0.03234455, -0.00728177, -0.0444417 ,\n",
       "         0.00648009,  0.02581234, -0.01461455,  0.03622703,  0.02915286,\n",
       "        -0.05219059, -0.02504668,  0.02239447,  0.0454202 , -0.03737811,\n",
       "        -0.04152685, -0.03870733, -0.05180985, -0.04033994, -0.00440662,\n",
       "         0.0104113 ,  0.0326566 , -0.01468523,  0.0077997 , -0.02067556,\n",
       "         0.03453976, -0.02718095, -0.06101722, -0.03995826, -0.08448915,\n",
       "        -0.0438656 , -0.00385578, -0.07154615, -0.0351394 ], dtype=float32),\n",
       " array([[ 0.19931082],\n",
       "        [ 0.1735338 ],\n",
       "        [ 0.2469763 ],\n",
       "        [-0.19499207],\n",
       "        [-0.16859604],\n",
       "        [-0.11388392],\n",
       "        [ 0.00639383],\n",
       "        [ 0.19061767],\n",
       "        [ 0.0651176 ],\n",
       "        [ 0.00292244],\n",
       "        [ 0.113405  ],\n",
       "        [ 0.1304972 ],\n",
       "        [ 0.15173733],\n",
       "        [-0.24829316],\n",
       "        [ 0.18111224],\n",
       "        [ 0.05155849],\n",
       "        [-0.06972763],\n",
       "        [-0.17356685],\n",
       "        [-0.21524544],\n",
       "        [ 0.00278175],\n",
       "        [-0.20117767],\n",
       "        [ 0.22194456],\n",
       "        [-0.01758725],\n",
       "        [ 0.16460316],\n",
       "        [-0.16701107],\n",
       "        [ 0.07932185],\n",
       "        [-0.5582422 ],\n",
       "        [-0.11429541],\n",
       "        [ 0.10014386],\n",
       "        [ 0.22970565],\n",
       "        [ 0.18181333],\n",
       "        [-0.14607202],\n",
       "        [ 0.23725456],\n",
       "        [-1.0906925 ],\n",
       "        [ 0.16064323],\n",
       "        [-0.06289906],\n",
       "        [ 0.14392258],\n",
       "        [ 0.14572114],\n",
       "        [-0.17575824],\n",
       "        [-0.07290035],\n",
       "        [ 0.07504237],\n",
       "        [-0.0634134 ],\n",
       "        [-0.22624695],\n",
       "        [ 0.2554243 ],\n",
       "        [-0.40443715],\n",
       "        [ 0.01085238],\n",
       "        [-0.01585729],\n",
       "        [ 0.09483757],\n",
       "        [ 0.23239288],\n",
       "        [-0.87878084],\n",
       "        [-0.14838497],\n",
       "        [-0.07731336],\n",
       "        [ 0.01634646],\n",
       "        [ 0.07725924],\n",
       "        [ 0.37130865],\n",
       "        [-0.10816859],\n",
       "        [-0.08946095],\n",
       "        [ 0.1865182 ],\n",
       "        [ 0.18591642],\n",
       "        [ 0.06372499],\n",
       "        [ 0.03445463],\n",
       "        [-0.10879463],\n",
       "        [ 0.03437203],\n",
       "        [ 0.19360441],\n",
       "        [-0.16041444],\n",
       "        [ 0.19141427],\n",
       "        [-0.03080115],\n",
       "        [-0.11602301],\n",
       "        [ 0.02649424],\n",
       "        [-0.10137619],\n",
       "        [ 0.04292849],\n",
       "        [ 0.00887841],\n",
       "        [-0.02272096],\n",
       "        [-0.06078118],\n",
       "        [ 0.11553508],\n",
       "        [-0.01803802],\n",
       "        [ 0.20869581],\n",
       "        [ 0.11061987],\n",
       "        [-0.1335923 ],\n",
       "        [ 0.20479716],\n",
       "        [-1.3106241 ],\n",
       "        [ 0.10207254],\n",
       "        [ 0.02455867],\n",
       "        [-0.12590587],\n",
       "        [ 0.04934291],\n",
       "        [-0.13568552],\n",
       "        [ 0.06476442],\n",
       "        [ 0.08123975],\n",
       "        [ 0.15860152],\n",
       "        [-0.0688592 ],\n",
       "        [-0.09558787],\n",
       "        [-0.09603088],\n",
       "        [ 0.06457966],\n",
       "        [-0.06335063],\n",
       "        [ 0.23370609],\n",
       "        [ 0.13947937],\n",
       "        [-0.14493667],\n",
       "        [ 0.04381932],\n",
       "        [ 0.11268962],\n",
       "        [ 0.0396271 ],\n",
       "        [ 0.04111188],\n",
       "        [-0.08818168],\n",
       "        [ 0.05860669],\n",
       "        [ 0.0093496 ],\n",
       "        [-0.0900683 ],\n",
       "        [-0.00390167],\n",
       "        [ 0.07566524],\n",
       "        [-0.07363038],\n",
       "        [-0.05462745],\n",
       "        [-0.06181796],\n",
       "        [-0.03518092],\n",
       "        [ 0.07093566],\n",
       "        [ 0.14877379],\n",
       "        [-0.06064937],\n",
       "        [ 0.2557426 ],\n",
       "        [ 0.01290151],\n",
       "        [ 0.16486932],\n",
       "        [-0.16005543],\n",
       "        [ 0.04878986],\n",
       "        [-0.8885804 ],\n",
       "        [-0.2046897 ],\n",
       "        [-0.19901511],\n",
       "        [-0.09563734],\n",
       "        [ 0.22090532],\n",
       "        [ 0.10626525],\n",
       "        [ 0.24380884],\n",
       "        [ 0.16357164],\n",
       "        [-0.03129027],\n",
       "        [ 0.21840672]], dtype=float32),\n",
       " array([0.97754073], dtype=float32)]"
      ]
     },
     "execution_count": 8,
     "metadata": {},
     "output_type": "execute_result"
    }
   ],
   "source": [
    "model.get_weights()"
   ]
  },
  {
   "cell_type": "code",
   "execution_count": 9,
   "metadata": {},
   "outputs": [],
   "source": [
    "# Step 2: Helper Functions\n",
    "\n",
    "# Function to decode reviews\n",
    "def decode_review(encoded_review):\n",
    "    return ' '.join([reverse_word_index.get(i - 3, '?') for i in encoded_review])\n",
    "\n",
    "# Function to preprocess user input\n",
    "def preprocess_text(text):\n",
    "    words = text.lower().split()\n",
    "    encoded_review = [word_index.get(word, 2) + 3 for word in words]\n",
    "    padded_review = sequence.pad_sequences([encoded_review], maxlen=500)\n",
    "    return padded_review\n"
   ]
  },
  {
   "cell_type": "code",
   "execution_count": 10,
   "metadata": {},
   "outputs": [],
   "source": [
    "#predictons function\n",
    "\n",
    "def predict_sentiment(review):\n",
    "    preprocessed_input=preprocess_text(review)\n",
    "\n",
    "    prediction=model.predict(preprocessed_input)\n",
    "    sentiment=\"postive\" if prediction[0][0]>0.5 else 'negetive'\n",
    "    return sentiment,prediction[0][0]"
   ]
  },
  {
   "cell_type": "code",
   "execution_count": 11,
   "metadata": {},
   "outputs": [
    {
     "name": "stdout",
     "output_type": "stream",
     "text": [
      "\u001b[1m1/1\u001b[0m \u001b[32m━━━━━━━━━━━━━━━━━━━━\u001b[0m\u001b[37m\u001b[0m \u001b[1m0s\u001b[0m 131ms/step\n",
      "Review this movie was fantastic the acting was great and the plot was thrilling\n",
      "sentiment: postive\n",
      "prediction score 0.8346406817436218\n"
     ]
    }
   ],
   "source": [
    "#Take user input\n",
    "\n",
    "example_review=\"this movie was fantastic the acting was great and the plot was thrilling\"\n",
    "sentiment,score=predict_sentiment(example_review)\n",
    "\n",
    "print(f'Review {example_review}')\n",
    "print(f'sentiment: {sentiment}')\n",
    "print(f'prediction score {score}')\n"
   ]
  },
  {
   "cell_type": "code",
   "execution_count": null,
   "metadata": {},
   "outputs": [],
   "source": []
  },
  {
   "cell_type": "code",
   "execution_count": null,
   "metadata": {},
   "outputs": [],
   "source": []
  },
  {
   "cell_type": "code",
   "execution_count": null,
   "metadata": {},
   "outputs": [],
   "source": []
  }
 ],
 "metadata": {
  "kernelspec": {
   "display_name": ".venv",
   "language": "python",
   "name": "python3"
  },
  "language_info": {
   "codemirror_mode": {
    "name": "ipython",
    "version": 3
   },
   "file_extension": ".py",
   "mimetype": "text/x-python",
   "name": "python",
   "nbconvert_exporter": "python",
   "pygments_lexer": "ipython3",
   "version": "3.12.4"
  }
 },
 "nbformat": 4,
 "nbformat_minor": 2
}
